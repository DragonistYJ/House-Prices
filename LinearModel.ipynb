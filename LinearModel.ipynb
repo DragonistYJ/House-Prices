{
 "cells": [
  {
   "cell_type": "code",
   "execution_count": null,
   "metadata": {
    "collapsed": true
   },
   "outputs": [],
   "source": [
    "import json\n",
    "from typing import Optional\n",
    "\n",
    "import pandas as pd\n",
    "import pytorch_lightning as pl\n",
    "import torch\n",
    "from pytorch_lightning import LightningDataModule\n",
    "from pytorch_lightning.callbacks import ModelCheckpoint\n",
    "from pytorch_lightning.loggers import TensorBoardLogger\n",
    "from torch import nn\n",
    "from torch.nn import functional as F\n",
    "from torch.optim import AdamW\n",
    "from torch.utils.data import Dataset, DataLoader, random_split\n",
    "from torchmetrics import MeanSquaredError, R2Score"
   ]
  },
  {
   "cell_type": "code",
   "execution_count": null,
   "outputs": [],
   "source": [
    "sparse_column = [\"MSZoning\", \"Street\", \"Alley\", \"LotShape\", \"LandContour\", \"Utilities\", \"LotConfig\", \"LandSlope\",\n",
    "                 \"Neighborhood\", \"Condition1\", \"Condition2\", \"BldgType\", \"HouseStyle\", \"RoofStyle\", \"RoofMatl\",\n",
    "                 \"Exterior1st\", \"Exterior2nd\", \"MasVnrType\", \"ExterQual\", \"ExterCond\", \"Foundation\", \"BsmtQual\",\n",
    "                 \"BsmtCond\", \"BsmtExposure\", \"BsmtFinType1\", \"BsmtFinType2\", \"Heating\", \"HeatingQC\", \"CentralAir\",\n",
    "                 \"Electrical\", \"KitchenQual\", \"Functional\", \"FireplaceQu\", \"GarageType\", \"GarageFinish\", \"GarageQual\",\n",
    "                 \"GarageCond\", \"PavedDrive\", \"PoolQC\", \"Fence\", \"MiscFeature\", \"SaleType\", \"SaleCondition\"]\n",
    "\n",
    "consistent_column = [\"MSSubClass\", \"LotFrontage\", \"LotArea\", \"OverallQual\", \"OverallCond\", \"YearBuilt\", \"YearRemodAdd\",\n",
    "                     \"MasVnrArea\", \"BsmtFinSF1\", \"BsmtFinSF2\", \"BsmtUnfSF\", \"TotalBsmtSF\", \"1stFlrSF\", \"2ndFlrSF\",\n",
    "                     \"LowQualFinSF\", \"GrLivArea\", \"BsmtFullBath\", \"BsmtHalfBath\", \"FullBath\", \"HalfBath\",\n",
    "                     \"BedroomAbvGr\", \"KitchenAbvGr\", \"TotRmsAbvGrd\", \"Fireplaces\", \"GarageYrBlt\", \"GarageCars\",\n",
    "                     \"GarageArea\", \"WoodDeckSF\", \"OpenPorchSF\", \"EnclosedPorch\", \"3SsnPorch\", \"ScreenPorch\", \"PoolArea\",\n",
    "                     \"MiscVal\", \"MoSold\", \"YrSold\"]"
   ],
   "metadata": {
    "collapsed": false,
    "pycharm": {
     "name": "#%%\n"
    }
   }
  },
  {
   "cell_type": "code",
   "execution_count": null,
   "outputs": [],
   "source": [
    "class MyDataset(Dataset):\n",
    "    def __init__(self):\n",
    "        self.csv = pd.read_csv(\"./data/train.csv\")\n",
    "        with open(\"./data/sparse_label.json\", \"r\", encoding=\"utf-8\") as f:\n",
    "            self.sparse_label = json.loads(f.read())\n",
    "        with open(\"./data/sparse_column.json\", \"r\", encoding=\"utf-8\") as f:\n",
    "            self.sparse_column = json.loads(f.read())\n",
    "\n",
    "    def __len__(self):\n",
    "        return len(self.csv)\n",
    "\n",
    "    def __getitem__(self, index):\n",
    "        item = self.csv.iloc[index]\n",
    "        feat = []\n",
    "        for head in self.csv:\n",
    "            if head == \"Id\" or head == \"SalePrice\":\n",
    "                continue\n",
    "            if head in self.sparse_label:\n",
    "                idx = self.sparse_label[head][\"label2idx\"][item[head]]\n",
    "                one_hot = [1 if i == idx else 0 for i in range(self.sparse_column[head][\"num\"])]\n",
    "                feat.extend(one_hot)\n",
    "            else:\n",
    "                feat.append(item[head])\n",
    "        return {\"feat\": torch.tensor(feat), \"price\": item[\"SalePrice\"]}\n",
    "\n",
    "\n",
    "def collate_function(data):\n",
    "    feat = [datum[\"feat\"] for datum in data]\n",
    "    feat = torch.stack(feat).float()\n",
    "    price = [datum[\"price\"] for datum in data]\n",
    "    price = torch.tensor(price).float()\n",
    "    return {\"feat\": feat, \"price\": price}"
   ],
   "metadata": {
    "collapsed": false,
    "pycharm": {
     "name": "#%%\n"
    }
   }
  },
  {
   "cell_type": "code",
   "execution_count": null,
   "outputs": [],
   "source": [
    "class MyDataModule(LightningDataModule):\n",
    "    def __init__(self):\n",
    "        super().__init__()\n",
    "\n",
    "    def setup(self, stage: Optional[str] = None) -> None:\n",
    "        dataset = MyDataset()\n",
    "        self.train_dataset, self.val_dataset = random_split(dataset, [1260, 200])\n",
    "\n",
    "    def train_dataloader(self):\n",
    "        return DataLoader(self.train_dataset, 256, True, collate_fn=collate_function)\n",
    "\n",
    "    def val_dataloader(self):\n",
    "        return DataLoader(self.val_dataset, 256, False, collate_fn=collate_function)"
   ],
   "metadata": {
    "collapsed": false,
    "pycharm": {
     "name": "#%%\n"
    }
   }
  },
  {
   "cell_type": "code",
   "execution_count": null,
   "outputs": [],
   "source": [
    "dataset = MyDataset()"
   ],
   "metadata": {
    "collapsed": false,
    "pycharm": {
     "name": "#%%\n"
    }
   }
  },
  {
   "cell_type": "code",
   "execution_count": null,
   "outputs": [],
   "source": [
    "dataset[0][\"feat\"].size()"
   ],
   "metadata": {
    "collapsed": false,
    "pycharm": {
     "name": "#%%\n"
    }
   }
  },
  {
   "cell_type": "code",
   "execution_count": null,
   "outputs": [],
   "source": [
    "class LinearModel(pl.LightningModule):\n",
    "    def __init__(self):\n",
    "        super().__init__()\n",
    "        self.add_module(\"\",nn.Linear(7,7))\n",
    "        self.fc1 = nn.Linear(304, 256)\n",
    "        self.fc2 = nn.Linear(256, 256)\n",
    "        self.fc3 = nn.Linear(256, 128)\n",
    "        self.fc4 = nn.Linear(128, 128)\n",
    "        self.fc5 = nn.Linear(128, 32)\n",
    "        self.fc6 = nn.Linear(32, 32)\n",
    "        self.fc7 = nn.Linear(32, 1)\n",
    "\n",
    "        self.mse = MeanSquaredError()\n",
    "        self.r2 = R2Score()\n",
    "\n",
    "    def forward(self, feat):\n",
    "        x = F.relu(self.fc1(feat))\n",
    "        x = F.relu(self.fc2(x)) + x\n",
    "        x = F.relu(self.fc3(x))\n",
    "        x = F.relu(self.fc4(x)) + x\n",
    "        x = F.relu(self.fc5(x))\n",
    "        x = F.relu(self.fc6(x)) + x\n",
    "        x = self.fc7(x)\n",
    "        x = x.squeeze(dim=1)\n",
    "        return x\n",
    "\n",
    "    def training_step(self, batch, batch_idx):\n",
    "        predict = self(batch[\"feat\"])\n",
    "        loss = F.mse_loss(predict, batch[\"price\"])\n",
    "        return {\"loss\": loss}\n",
    "\n",
    "    def training_epoch_end(self, outputs):\n",
    "        total_loss = 0\n",
    "        for output in outputs:\n",
    "            total_loss += output[\"loss\"].item()\n",
    "\n",
    "        logger = self.logger.experiment\n",
    "        logger.add_scalar(\"train loss\", total_loss, self.current_epoch + 1)\n",
    "\n",
    "    def validation_step(self, batch, batch_idx):\n",
    "        predict = self(batch[\"feat\"])\n",
    "        self.mse(predict, batch[\"price\"])\n",
    "        self.r2(predict, batch[\"price\"])\n",
    "\n",
    "    def validation_epoch_end(self, outputs):\n",
    "        mse = self.mse.compute()\n",
    "        r2 = self.r2.compute()\n",
    "        logger = self.logger.experiment\n",
    "        logger.add_scalar(\"mse\", mse, self.current_epoch + 1)\n",
    "        logger.add_scalar(\"r2\", r2, self.current_epoch + 1)\n",
    "        self.mse.reset()\n",
    "        self.r2.reset()\n",
    "\n",
    "    def configure_optimizers(self):\n",
    "        return AdamW(self.parameters(), lr=5e-4)"
   ],
   "metadata": {
    "collapsed": false,
    "pycharm": {
     "name": "#%%\n"
    }
   }
  },
  {
   "cell_type": "code",
   "execution_count": null,
   "outputs": [],
   "source": [
    "model = LinearModel()"
   ],
   "metadata": {
    "collapsed": false,
    "pycharm": {
     "name": "#%%\n"
    }
   }
  },
  {
   "cell_type": "code",
   "execution_count": null,
   "outputs": [],
   "source": [
    "logger = TensorBoardLogger('logs', name='linear')\n",
    "checkpoint = ModelCheckpoint(dirpath=\"./checkpoints/linear\", save_top_k=-1, every_n_epochs=20)\n",
    "trainer = pl.Trainer(gpus=1,\n",
    "                     max_epochs=200,\n",
    "                     logger=logger,\n",
    "                     callbacks=[checkpoint],\n",
    "                     reload_dataloaders_every_n_epochs=5)"
   ],
   "metadata": {
    "collapsed": false,
    "pycharm": {
     "name": "#%%\n"
    }
   }
  },
  {
   "cell_type": "code",
   "execution_count": null,
   "outputs": [],
   "source": [
    "trainer.fit(model, datamodule=MyDataModule())"
   ],
   "metadata": {
    "collapsed": false,
    "pycharm": {
     "name": "#%%\n"
    }
   }
  },
  {
   "cell_type": "markdown",
   "source": [
    "# 测试"
   ],
   "metadata": {
    "collapsed": false,
    "pycharm": {
     "name": "#%% md\n"
    }
   }
  },
  {
   "cell_type": "code",
   "execution_count": null,
   "outputs": [],
   "source": [
    "class PredictSet(Dataset):\n",
    "    def __init__(self):\n",
    "        self.csv = pd.read_csv(\"./data/test.csv\")\n",
    "        with open(\"./data/sparse_label.json\", \"r\", encoding=\"utf-8\") as f:\n",
    "            self.sparse_label = json.loads(f.read())\n",
    "        with open(\"./data/sparse_column.json\", \"r\", encoding=\"utf-8\") as f:\n",
    "            self.sparse_column = json.loads(f.read())\n",
    "\n",
    "    def __len__(self):\n",
    "        return len(self.csv)\n",
    "\n",
    "    def __getitem__(self, index):\n",
    "        item = self.csv.iloc[index]\n",
    "        feat = []\n",
    "        for head in self.csv:\n",
    "            if head == \"Id\":\n",
    "                continue\n",
    "            if head in self.sparse_label:\n",
    "                idx = self.sparse_label[head][\"label2idx\"][item[head]]\n",
    "                one_hot = [1 if i == idx else 0 for i in range(self.sparse_column[head][\"num\"])]\n",
    "                feat.extend(one_hot)\n",
    "            else:\n",
    "                feat.append(item[head])\n",
    "        return {\"feat\": torch.tensor(feat), \"idx\": item[\"Id\"]}\n",
    "\n",
    "\n",
    "def collate_fn(data):\n",
    "    feat = [datum[\"feat\"] for datum in data]\n",
    "    feat = torch.stack(feat).float()\n",
    "    idx = [datum[\"idx\"] for datum in data]\n",
    "    return {\"feat\": feat, \"id\": idx}"
   ],
   "metadata": {
    "collapsed": false,
    "pycharm": {
     "name": "#%%\n"
    }
   }
  },
  {
   "cell_type": "code",
   "execution_count": null,
   "outputs": [],
   "source": [
    "predict_set = PredictSet()\n",
    "predict_loader = DataLoader(predict_set, 256, False, collate_fn=collate_fn)"
   ],
   "metadata": {
    "collapsed": false,
    "pycharm": {
     "name": "#%%\n"
    }
   }
  },
  {
   "cell_type": "code",
   "execution_count": null,
   "outputs": [],
   "source": [
    "model.cuda()"
   ],
   "metadata": {
    "collapsed": false,
    "pycharm": {
     "name": "#%%\n"
    }
   }
  },
  {
   "cell_type": "code",
   "execution_count": null,
   "outputs": [],
   "source": [
    "test_result = []\n",
    "with torch.no_grad():\n",
    "    for batch in predict_loader:\n",
    "        predict = model(batch[\"feat\"].cuda())\n",
    "        for price, id in zip(predict, batch[\"id\"]):\n",
    "            test_result.append({\"Id\": id, \"SalePrice\": price.item()})"
   ],
   "metadata": {
    "collapsed": false,
    "pycharm": {
     "name": "#%%\n"
    }
   }
  },
  {
   "cell_type": "code",
   "execution_count": null,
   "outputs": [],
   "source": [
    "result_df = pd.DataFrame(test_result)"
   ],
   "metadata": {
    "collapsed": false,
    "pycharm": {
     "name": "#%%\n"
    }
   }
  },
  {
   "cell_type": "code",
   "execution_count": null,
   "outputs": [],
   "source": [
    "result_df.to_csv(\"./data/result4.csv\")"
   ],
   "metadata": {
    "collapsed": false,
    "pycharm": {
     "name": "#%%\n"
    }
   }
  },
  {
   "cell_type": "code",
   "execution_count": null,
   "outputs": [],
   "source": [],
   "metadata": {
    "collapsed": false,
    "pycharm": {
     "name": "#%%\n"
    }
   }
  }
 ],
 "metadata": {
  "kernelspec": {
   "name": "python3",
   "language": "python",
   "display_name": "Python 3 (ipykernel)"
  },
  "language_info": {
   "codemirror_mode": {
    "name": "ipython",
    "version": 2
   },
   "file_extension": ".py",
   "mimetype": "text/x-python",
   "name": "python",
   "nbconvert_exporter": "python",
   "pygments_lexer": "ipython2",
   "version": "2.7.6"
  }
 },
 "nbformat": 4,
 "nbformat_minor": 0
}