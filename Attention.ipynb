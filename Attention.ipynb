{
 "cells": [
  {
   "cell_type": "code",
   "execution_count": null,
   "metadata": {
    "collapsed": true
   },
   "outputs": [],
   "source": [
    "from transformers import BertConfig, BertModel, AdamW\n",
    "import json\n",
    "from typing import Optional\n",
    "\n",
    "import pandas as pd\n",
    "import pytorch_lightning as pl\n",
    "import torch\n",
    "from pytorch_lightning import LightningDataModule\n",
    "from pytorch_lightning.callbacks import ModelCheckpoint\n",
    "from pytorch_lightning.loggers import TensorBoardLogger\n",
    "from torch import nn\n",
    "from torch.nn import functional as F\n",
    "from torch.utils.data import Dataset, DataLoader, random_split\n",
    "from torchmetrics import MeanSquaredError, R2Score"
   ]
  },
  {
   "cell_type": "code",
   "execution_count": null,
   "outputs": [],
   "source": [
    "device = torch.device(\"cuda:0\" if torch.cuda.is_available() else \"cpu\")"
   ],
   "metadata": {
    "collapsed": false,
    "pycharm": {
     "name": "#%%\n"
    }
   }
  },
  {
   "cell_type": "code",
   "execution_count": null,
   "outputs": [],
   "source": [
    "sparse_column = [\"MSZoning\", \"Street\", \"Alley\", \"LotShape\", \"LandContour\", \"Utilities\", \"LotConfig\", \"LandSlope\",\n",
    "                 \"Neighborhood\", \"Condition1\", \"Condition2\", \"BldgType\", \"HouseStyle\", \"RoofStyle\", \"RoofMatl\",\n",
    "                 \"Exterior1st\", \"Exterior2nd\", \"MasVnrType\", \"ExterQual\", \"ExterCond\", \"Foundation\", \"BsmtQual\",\n",
    "                 \"BsmtCond\", \"BsmtExposure\", \"BsmtFinType1\", \"BsmtFinType2\", \"Heating\", \"HeatingQC\", \"CentralAir\",\n",
    "                 \"Electrical\", \"KitchenQual\", \"Functional\", \"FireplaceQu\", \"GarageType\", \"GarageFinish\", \"GarageQual\",\n",
    "                 \"GarageCond\", \"PavedDrive\", \"PoolQC\", \"Fence\", \"MiscFeature\", \"SaleType\", \"SaleCondition\"]\n",
    "\n",
    "consistent_column = [\"MSSubClass\", \"LotFrontage\", \"LotArea\", \"OverallQual\", \"OverallCond\", \"YearBuilt\", \"YearRemodAdd\",\n",
    "                     \"MasVnrArea\", \"BsmtFinSF1\", \"BsmtFinSF2\", \"BsmtUnfSF\", \"TotalBsmtSF\", \"1stFlrSF\", \"2ndFlrSF\",\n",
    "                     \"LowQualFinSF\", \"GrLivArea\", \"BsmtFullBath\", \"BsmtHalfBath\", \"FullBath\", \"HalfBath\",\n",
    "                     \"BedroomAbvGr\", \"KitchenAbvGr\", \"TotRmsAbvGrd\", \"Fireplaces\", \"GarageYrBlt\", \"GarageCars\",\n",
    "                     \"GarageArea\", \"WoodDeckSF\", \"OpenPorchSF\", \"EnclosedPorch\", \"3SsnPorch\", \"ScreenPorch\", \"PoolArea\",\n",
    "                     \"MiscVal\", \"MoSold\", \"YrSold\"]"
   ],
   "metadata": {
    "collapsed": false,
    "pycharm": {
     "name": "#%%\n"
    }
   }
  },
  {
   "cell_type": "code",
   "execution_count": null,
   "outputs": [],
   "source": [
    "class MyDataset(Dataset):\n",
    "    def __init__(self):\n",
    "        self.csv = pd.read_csv(\"./data/train.csv\")\n",
    "        with open(\"./data/sparse_label.json\", \"r\", encoding=\"utf-8\") as f:\n",
    "            self.sparse_label = json.loads(f.read())\n",
    "        with open(\"./data/sparse_column.json\", \"r\", encoding=\"utf-8\") as f:\n",
    "            self.sparse_column = json.loads(f.read())\n",
    "\n",
    "    def __len__(self):\n",
    "        return len(self.csv)\n",
    "\n",
    "    def __getitem__(self, index):\n",
    "        item = self.csv.iloc[index]\n",
    "        feat = []\n",
    "        for head in self.csv:\n",
    "            if head == \"Id\" or head == \"SalePrice\":\n",
    "                continue\n",
    "            if head in self.sparse_label:\n",
    "                idx = self.sparse_label[head][\"label2idx\"][item[head]]\n",
    "                feat.append(idx)\n",
    "            else:\n",
    "                feat.append(item[head])\n",
    "        return {\"feat\": torch.tensor(feat), \"price\": item[\"SalePrice\"]}\n",
    "\n",
    "\n",
    "def collate_function(data):\n",
    "    feat = [datum[\"feat\"] for datum in data]\n",
    "    feat = torch.stack(feat).float()\n",
    "    price = [datum[\"price\"] for datum in data]\n",
    "    price = torch.tensor(price).float()\n",
    "    return {\"feat\": feat, \"price\": price}"
   ],
   "metadata": {
    "collapsed": false,
    "pycharm": {
     "name": "#%%\n"
    }
   }
  },
  {
   "cell_type": "code",
   "execution_count": null,
   "outputs": [],
   "source": [
    "class MyDataModule(LightningDataModule):\n",
    "    def __init__(self):\n",
    "        super().__init__()\n",
    "\n",
    "    def setup(self, stage: Optional[str] = None) -> None:\n",
    "        dataset = MyDataset()\n",
    "        self.train_dataset, self.val_dataset = random_split(dataset, [1260, 200])\n",
    "\n",
    "    def train_dataloader(self):\n",
    "        return DataLoader(self.train_dataset, 256, True, collate_fn=collate_function)\n",
    "\n",
    "    def val_dataloader(self):\n",
    "        return DataLoader(self.val_dataset, 256, False, collate_fn=collate_function)"
   ],
   "metadata": {
    "collapsed": false,
    "pycharm": {
     "name": "#%%\n"
    }
   }
  },
  {
   "cell_type": "code",
   "execution_count": null,
   "outputs": [],
   "source": [
    "class AttentionModel(pl.LightningModule):\n",
    "    def __init__(self):\n",
    "        super().__init__()\n",
    "        config = BertConfig(\n",
    "            hidden_size=1,\n",
    "            intermediate_size=128,\n",
    "            num_attention_heads=1,\n",
    "            num_hidden_layers=4\n",
    "        )\n",
    "        self.bert = BertModel(config)\n",
    "        self.fc1 = nn.Linear(79, 128)\n",
    "        self.fc2 = nn.Linear(128, 128)\n",
    "        self.fc3 = nn.Linear(128, 128)\n",
    "        self.fc4 = nn.Linear(128, 1)\n",
    "\n",
    "        self.mse = MeanSquaredError()\n",
    "        self.r2 = R2Score()\n",
    "\n",
    "    def forward(self, feat):\n",
    "        x = feat.unsqueeze(dim=2)\n",
    "        x = self.bert.forward(inputs_embeds=x)[\"last_hidden_state\"]\n",
    "        x = x.squeeze(dim=2)\n",
    "        x = F.relu(self.fc1(x))\n",
    "        x = F.relu(self.fc2(x)) + x\n",
    "        x = F.relu(self.fc3(x)) + x\n",
    "        x = self.fc4(x)\n",
    "        x = x.squeeze(dim=1)\n",
    "        return x\n",
    "\n",
    "    def training_step(self, batch, batch_idx):\n",
    "        predict = self(batch[\"feat\"])\n",
    "        loss = F.mse_loss(predict, batch[\"price\"])\n",
    "        return {\"loss\": loss}\n",
    "\n",
    "    def training_epoch_end(self, outputs):\n",
    "        total_loss = 0\n",
    "        for output in outputs:\n",
    "            total_loss += output[\"loss\"].item()\n",
    "\n",
    "        self.logger.log_metrics({\"train loss\": total_loss}, self.current_epoch + 1)\n",
    "\n",
    "    def validation_step(self, batch, batch_idx):\n",
    "        predict = self(batch[\"feat\"])\n",
    "        self.mse(predict, batch[\"price\"])\n",
    "        self.r2(predict, batch[\"price\"])\n",
    "\n",
    "    def validation_epoch_end(self, outputs):\n",
    "        mse = self.mse.compute()\n",
    "        r2 = self.r2.compute()\n",
    "        self.logger.log_metrics({\"mse\": mse.item(), \"r2\": r2.item()}, self.current_epoch + 1)\n",
    "        self.mse.reset()\n",
    "        self.r2.reset()\n",
    "\n",
    "    def configure_optimizers(self):\n",
    "        return AdamW(self.parameters(), lr=1e-3)"
   ],
   "metadata": {
    "collapsed": false,
    "pycharm": {
     "name": "#%%\n"
    }
   }
  },
  {
   "cell_type": "code",
   "execution_count": null,
   "outputs": [],
   "source": [
    "model = AttentionModel()"
   ],
   "metadata": {
    "collapsed": false,
    "pycharm": {
     "name": "#%%\n"
    }
   }
  },
  {
   "cell_type": "code",
   "execution_count": null,
   "outputs": [],
   "source": [
    "logger = TensorBoardLogger('logs', name='bert')\n",
    "checkpoint = ModelCheckpoint(dirpath=\"./checkpoints/bert\", save_top_k=-1, every_n_epochs=10)\n",
    "trainer = pl.Trainer(max_epochs=200,\n",
    "                     logger=logger,\n",
    "                     callbacks=[checkpoint],\n",
    "                     reload_dataloaders_every_n_epochs=5)"
   ],
   "metadata": {
    "collapsed": false,
    "pycharm": {
     "name": "#%%\n"
    }
   }
  },
  {
   "cell_type": "code",
   "execution_count": null,
   "outputs": [],
   "source": [
    "trainer.fit(model, datamodule=MyDataModule())"
   ],
   "metadata": {
    "collapsed": false,
    "pycharm": {
     "name": "#%%\n"
    }
   }
  },
  {
   "cell_type": "code",
   "execution_count": null,
   "outputs": [],
   "source": [],
   "metadata": {
    "collapsed": false,
    "pycharm": {
     "name": "#%%\n"
    }
   }
  }
 ],
 "metadata": {
  "kernelspec": {
   "display_name": "Python 3",
   "language": "python",
   "name": "python3"
  },
  "language_info": {
   "codemirror_mode": {
    "name": "ipython",
    "version": 2
   },
   "file_extension": ".py",
   "mimetype": "text/x-python",
   "name": "python",
   "nbconvert_exporter": "python",
   "pygments_lexer": "ipython2",
   "version": "2.7.6"
  }
 },
 "nbformat": 4,
 "nbformat_minor": 0
}